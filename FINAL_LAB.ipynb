{
 "cells": [
  {
   "cell_type": "code",
   "execution_count": 2,
   "metadata": {},
   "outputs": [],
   "source": [
    "import numpy as np\n",
    "import random\n",
    "import string # to process standard python strings\n",
    "import json\n",
    "import speech_recognition as sr\n",
    "import time \n",
    "import num2words\n",
    "import re\n",
    "import string\n",
    "from num2words import num2words\n",
    "from difflib import SequenceMatcher\n",
    "#sudo pip3 install --upgrade speechrecognition\n",
    "#sudo apt-get install libasound-dev portaudio19-dev libportaudio2 libportaudiocpp0\n",
    "#sudo apt-get install ffmpeg libav-tools\n",
    "#sudo pip3 install pyaudio\n",
    "#sudo pip3 install num2words"
   ]
  },
  {
   "cell_type": "code",
   "execution_count": 3,
   "metadata": {},
   "outputs": [],
   "source": [
    "def remove_punctuation(file):\n",
    "    punctu = string.punctuation + '“”' + '–'\n",
    "    punctu = punctu.replace('-', '')\n",
    "    file = file.replace('/', ' ')\n",
    "    file_withoutpunct = [char for char in file if char not in punctu]\n",
    "    x = ''.join(file_withoutpunct)\n",
    "    x = x.replace('-', ' ')\n",
    "    return x"
   ]
  },
  {
   "cell_type": "code",
   "execution_count": 4,
   "metadata": {},
   "outputs": [],
   "source": [
    "def change_to_lower(file):\n",
    "    return file.lower()"
   ]
  },
  {
   "cell_type": "code",
   "execution_count": 5,
   "metadata": {},
   "outputs": [],
   "source": [
    "def remove_accents(file):\n",
    "    file = file.replace('á', 'a')\n",
    "    file = file.replace('é', 'e')\n",
    "    file = file.replace('í', 'i')\n",
    "    file = file.replace('ó', 'o')\n",
    "    file = file.replace('ú', 'u')\n",
    "    return file"
   ]
  },
  {
   "cell_type": "code",
   "execution_count": 6,
   "metadata": {},
   "outputs": [],
   "source": [
    "def find_floats_replace(file):\n",
    "    dec = [float(s) for s in re.findall('\\d+\\.+\\d', file)] #array with all the decimals in the text\n",
    "    towords = [num2words(i, lang = 'es') for i in dec] #change these numbers to words in spanish\n",
    "    for i in range(len(dec)): \n",
    "        dec[i] = '{}'.format(dec[i]) #convert the decimals into strings with the decimals inside\n",
    "    for i in range (len(dec)):\n",
    "        file = file.replace(dec[i], towords[i]) #replace the decimals by words in the file\n",
    "    return file"
   ]
  },
  {
   "cell_type": "code",
   "execution_count": 7,
   "metadata": {},
   "outputs": [],
   "source": [
    "def find_integers_replace(file):\n",
    "    dec = [int(s) for s in re.findall('\\d+', file)] #list of numbers that appear in the text\n",
    "    towords = [num2words(i, lang = 'es') for i in dec] #change that list to words\n",
    "    for i in range(len(dec)):\n",
    "        dec[i] = '{}'.format(dec[i])\n",
    "    for i in range (len(dec)):\n",
    "        file = file.replace(dec[i], towords[i])\n",
    "    return file"
   ]
  },
  {
   "cell_type": "code",
   "execution_count": 8,
   "metadata": {},
   "outputs": [],
   "source": [
    "def remove_percent_floats(file):\n",
    "    cases1 = [str(s) for s in (re.findall('\\d+\\.+\\d%', file))] #or re.findall('\\d+ + %', file)\n",
    "    cases2 = [str(s) for s in re.findall('\\d+\\.+\\d+ +%', file)]\n",
    "    cases = cases1 + cases2\n",
    "    numpercent = []\n",
    "    for i in cases:\n",
    "        numpercent.append(re.findall('\\d+\\.+\\d', i))\n",
    "    numpercent = [item for sublist in numpercent for item in sublist]\n",
    "    for i in range(len(numpercent)):\n",
    "        numpercent[i] = num2words(numpercent[i])\n",
    "        numpercent[i] = '{} por ciento'.format(numpercent[i])\n",
    "    for i in range(len(cases)):\n",
    "        file = file.replace(cases[i], numpercent[i])\n",
    "    return file"
   ]
  },
  {
   "cell_type": "code",
   "execution_count": 9,
   "metadata": {},
   "outputs": [],
   "source": [
    "def remove_percent(file):\n",
    "    cases1 = [str(s) for s in (re.findall('\\d+%', file))] #or re.findall('\\d+ + %', file)\n",
    "    cases2 = [str(s) for s in re.findall('\\d+ +%', file)]\n",
    "    cases = cases1 + cases2\n",
    "    numpercent = []\n",
    "    for i in cases:\n",
    "        numpercent.append(re.findall('\\d+', i))\n",
    "    numpercent = [item for sublist in numpercent for item in sublist]\n",
    "    for i in range(len(numpercent)):\n",
    "        numpercent[i] = num2words(numpercent[i])\n",
    "        numpercent[i] = '{} por ciento'.format(numpercent[i])\n",
    "    for i in range(len(cases)):\n",
    "        file = file.replace(cases[i], numpercent[i])\n",
    "    return file"
   ]
  },
  {
   "cell_type": "code",
   "execution_count": 10,
   "metadata": {},
   "outputs": [],
   "source": [
    "def final_normalization(file):    \n",
    "    file = remove_percent_floats(file)\n",
    "    file = remove_percent(file)\n",
    "    file = change_to_lower(file)\n",
    "    file = find_floats_replace(file)\n",
    "    file = remove_punctuation(file)\n",
    "    file = find_integers_replace(file)\n",
    "    file = remove_punctuation(file)\n",
    "    file = remove_accents(file)\n",
    "    return file"
   ]
  },
  {
   "cell_type": "code",
   "execution_count": 11,
   "metadata": {},
   "outputs": [],
   "source": [
    "def similar(a, b):\n",
    "    return SequenceMatcher(None, a, b).ratio()"
   ]
  },
  {
   "cell_type": "code",
   "execution_count": 12,
   "metadata": {},
   "outputs": [],
   "source": [
    "GREETING_INPUTS = [\"hola\", \"ola\", \"buenos dias\", \"que pasa\", \"como estas\",\"ey\"]\n",
    "GREETING_RESPONSES = [\"Hola\", \"Buenos días\", \"Que pasa!\", \"Cómo va?\", \"Contenta de verte!\", \"Que bien, tu por aquí!\"]\n",
    "def greeting(sentence):\n",
    "    sentence = final_normalization(sentence)\n",
    "    for word in sentence.split():\n",
    "        if word.lower() in GREETING_INPUTS:\n",
    "            return random.choice(GREETING_RESPONSES)"
   ]
  },
  {
   "cell_type": "code",
   "execution_count": 13,
   "metadata": {},
   "outputs": [],
   "source": [
    "opcion1 = ['reproducir', 'escuchar']\n",
    "opcion2 = ['nombre cancion', 'titulo']\n",
    "opcion3 = ['nombre cantante','cantante', 'grupo', 'quien', 'artista']\n",
    "opcion4 = ['lyric', 'letra']"
   ]
  },
  {
   "cell_type": "code",
   "execution_count": 14,
   "metadata": {},
   "outputs": [],
   "source": [
    "with open('prueba.json') as file:\n",
    "    data = json.load(file)"
   ]
  },
  {
   "cell_type": "code",
   "execution_count": 15,
   "metadata": {},
   "outputs": [],
   "source": [
    "def response(user_response, i):\n",
    "    with sr.Microphone() as mp:\n",
    "        audio = r.listen(mp)\n",
    "        try:\n",
    "            print('ROBO: Ahora te digo...')\n",
    "            do = r.recognize_google(audio, language='es-ES')\n",
    "            time.sleep(1.5)\n",
    "            print('USER: ' + do)\n",
    "            do = final_normalization(do)\n",
    "            do = do.split()\n",
    "            if 'todo' in do:\n",
    "                response  = ('ROBO:' + data[i]['Song'] + ' - ' + data[i]['Author'] + ' y este es el link de youtube:\\n' + data[i]['Link'] + '\\n' + 'y esta es la letra:\\n' + data[i]['Lyric'])\n",
    "                print(response)\n",
    "            else:\n",
    "                check1 = any(item in do for item in opcion1) #link\n",
    "                check2 = any(item in do for item in opcion2) #titulo\n",
    "                check3 = any(item in do for item in opcion3) #artista\n",
    "                check4 = any(item in do for item in opcion4) #lyrics\n",
    "                print('ROBO: ')\n",
    "                if (check1 == True): \n",
    "                    response = ('Link de youtube:\\n' + data[i]['Link'])\n",
    "                    print(response)  \n",
    "                if (check2 == True):\n",
    "                    response = data[i]['Song']\n",
    "                    print(response)\n",
    "                if (check3 == True):\n",
    "                    response = data[i]['Author']\n",
    "                    print(response)\n",
    "                if (check4 == True):\n",
    "                    response = 'Esta es la letra:\\n' + data[i]['Lyric']\n",
    "                    print(response)\n",
    "            \n",
    "        except:\n",
    "            print('ROBO: Lo siento, no he entendido que opción elegías')"
   ]
  },
  {
   "cell_type": "code",
   "execution_count": 16,
   "metadata": {},
   "outputs": [],
   "source": [
    "def similarity(sentence1, sentence2, level):\n",
    "    sentence1 = sentence1.split()\n",
    "    sentence2 = sentence2.split()\n",
    "    if len(sentence1)>len(sentence2):\n",
    "        larger = sentence1\n",
    "        smaller = sentence2\n",
    "    else: \n",
    "        larger = sentence2\n",
    "        smaller = sentence1\n",
    "    new = []\n",
    "    for i in range(len(larger)):\n",
    "        x = []\n",
    "        if i > (len(larger)-(len(smaller))):\n",
    "                break\n",
    "        for j in range(len(smaller)):\n",
    "            x.append(larger[i+j])\n",
    "        x = ' '.join(x)\n",
    "        new.append(x)\n",
    "    smaller = ' '.join(smaller)\n",
    "    for j in new:\n",
    "        if (similar(j, smaller)>=level):\n",
    "            return True\n",
    "    return False"
   ]
  },
  {
   "cell_type": "code",
   "execution_count": 21,
   "metadata": {},
   "outputs": [],
   "source": [
    "def song_in_db(user_response):\n",
    "    aux = []\n",
    "    array = []\n",
    "    for i in data:\n",
    "        lyrics = (i['Lyric'])\n",
    "        lyrics = final_normalization(lyrics)\n",
    "        array.append(lyrics) #array = todas las lyrics\n",
    "    for i in range(len(array)):\n",
    "        user_response = final_normalization(user_response)\n",
    "        if (similarity(array[i], user_response, 0.8) == True):\n",
    "            aux.append(i)\n",
    "        \n",
    "    aux = list(dict.fromkeys(aux))\n",
    "    if len(aux)>0:\n",
    "        return True, aux\n",
    "    else: return False           "
   ]
  },
  {
   "cell_type": "code",
   "execution_count": 22,
   "metadata": {},
   "outputs": [],
   "source": [
    "def opciones(user_response):\n",
    "    if song_in_db(user_response)[0] == True:\n",
    "        for i in range (len(song_in_db(user_response)[1])):            \n",
    "            print(\"\"\"ROBO: ¿Que quieres hacer? con la canción número {} de canciones encontradas\n",
    "                              * Reproducir\n",
    "                              * Título\n",
    "                              * Cantante o grupo\n",
    "                              * Letra\n",
    "                              * Todo\n",
    "                        \"\"\".format(i+1))\n",
    "            response(user_response, song_in_db(user_response)[1][i])  \n",
    "        return('ROBO: Hecho') \n",
    "    \n",
    "    return 'ROBO: Not found'"
   ]
  },
  {
   "cell_type": "code",
   "execution_count": 24,
   "metadata": {},
   "outputs": [
    {
     "name": "stdout",
     "output_type": "stream",
     "text": [
      "ROBO: Mi nombre es Robo. Te diré la cancion que estas buscando! \n",
      "        Si quieres salir, sólo tienes que decir adiós!\n",
      "ROBO: Dime\n",
      "ROBO: Leyendo el audio. Por favor, espera un momento..\n",
      "USER: hola\n",
      "ROBO: Buenos días\n",
      "ROBO: Dime\n",
      "ROBO: Leyendo el audio. Por favor, espera un momento..\n",
      "USER: Ave María cuánto sería mía\n",
      "ROBO: ¿Que quieres hacer? con la canción número 1 de canciones encontradas\n",
      "                              * Reproducir\n",
      "                              * Título\n",
      "                              * Cantante o grupo\n",
      "                              * Letra\n",
      "                              * Todo\n",
      "                        \n",
      "ROBO: Ahora te digo...\n",
      "USER:todo\n",
      "ROBO:Ave María - David Bisbal y este es el link de youtube:\n",
      "https://www.youtube.com/watch?v=gra-sIV1n4U\n",
      "y esta es la letra:\n",
      "Ave María, ¿cuándo serás mía?, si me quisieras, todo te daría Ave María, ¿cuándo serás mía?, al mismo cielo yo te llevaría Dime tan solo una palabra que me devuelva la vida y se me quede en el alma Porque sin ti no tengo nada, envuélveme con tus besos, y ya más nada te pido Y cuando te veo, no sé lo que siento y cuando te tengo, me quemo por dentro Y más, y más de ti yo me enamoro, tú eres lo que quiero, tú eres mi tesoro Ave María, ¿cuándo serás mía?, si me quisieras, todo te daría Ave María, ¿cuándo serás mía?, al mismo cielo yo te llevaría Sin ti me siento tan perdido, enséñame la salida, llévame siempre contigo Protégeme con tu cariño, enciéndeme con tu fuego y ya más nada te pido, nada te pido Y cuando te veo, no sé lo que siento y cuando te tengo, me quemo por dentro Y más, y más de ti yo me enamoro, tú eres lo que quiero, tú eres mi tesoro Ave María, ¿cuándo serás mía?, si me quisieras, todo te daría Ave María, ¿cuándo serás mía?, al mismo cielo yo te llevaría Ave María, dime si serás mía, dímelo ya, Ave María\n",
      "ROBO: Hecho\n",
      "ROBO: Dime\n",
      "ROBO: Leyendo el audio. Por favor, espera un momento..\n",
      "USER: adiós\n",
      "ROBO: Adiós, cuídate!\n"
     ]
    }
   ],
   "source": [
    "flag=True\n",
    "print(\"\"\"ROBO: Mi nombre es Robo. Te diré la cancion que estas buscando! \n",
    "        Si quieres salir, sólo tienes que decir adiós!\"\"\")\n",
    "while(flag==True):\n",
    "    r = sr.Recognizer()\n",
    "    with sr.Microphone() as mp:\n",
    "        print('ROBO: Dime')\n",
    "        audio = r.listen(mp)\n",
    "        try:\n",
    "            print('ROBO: Leyendo el audio. Por favor, espera un momento..')\n",
    "            user_response = r.recognize_google(audio, language='es-ES')\n",
    "            time.sleep(1.5)\n",
    "            print('USER: ' + user_response)\n",
    "            user_response = final_normalization(user_response)\n",
    "            if len(user_response.split())<3:\n",
    "                if((similarity('gracias',user_response, 0.9)==True)):\n",
    "                    flag=False\n",
    "                    print(\"ROBO: De nada! Que vaya bien!\")\n",
    "                elif(greeting(user_response)!=None):\n",
    "                    print(\"ROBO: \"+ greeting(user_response))\n",
    "                elif((similarity('adios',user_response, 0.9)==True)):\n",
    "                    flag=False\n",
    "                    print(\"ROBO: Adiós, cuídate!\")\n",
    "                else: print('ROBO: Necesito que me digas más de la canción...')\n",
    "                \n",
    "            elif((similarity('adios',user_response, 0.9) == True and song_in_db(user_response)[0]==False)):\n",
    "                flag=False\n",
    "                print(\"ROBO: Adiós, cuídate!\")\n",
    "            elif((similarity('gracias',user_response, 0.9) == True and song_in_db(user_response)[0]==False)):\n",
    "                flag=False\n",
    "                print(\"ROBO: De nada! Que vaya bien!\")\n",
    "            else: print(opciones(user_response))\n",
    "        except:\n",
    "            print('ROBO: Lo siento, no te entiendo!')\n",
    "\n",
    "    "
   ]
  },
  {
   "cell_type": "code",
   "execution_count": null,
   "metadata": {},
   "outputs": [],
   "source": []
  }
 ],
 "metadata": {
  "kernelspec": {
   "display_name": "Python 3",
   "language": "python",
   "name": "python3"
  },
  "language_info": {
   "codemirror_mode": {
    "name": "ipython",
    "version": 3
   },
   "file_extension": ".py",
   "mimetype": "text/x-python",
   "name": "python",
   "nbconvert_exporter": "python",
   "pygments_lexer": "ipython3",
   "version": "3.8.2"
  }
 },
 "nbformat": 4,
 "nbformat_minor": 2
}
